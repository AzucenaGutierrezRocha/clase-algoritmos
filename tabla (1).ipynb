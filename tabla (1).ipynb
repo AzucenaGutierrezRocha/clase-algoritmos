{
  "nbformat": 4,
  "nbformat_minor": 0,
  "metadata": {
    "colab": {
      "name": "tabla.ipynb",
      "provenance": []
    },
    "kernelspec": {
      "name": "python3",
      "display_name": "Python 3"
    },
    "language_info": {
      "name": "python"
    }
  },
  "cells": [
    {
      "cell_type": "code",
      "execution_count": null,
      "metadata": {
        "colab": {
          "base_uri": "https://localhost:8080/"
        },
        "id": "aAF40uTY-LS1",
        "outputId": "936384b5-c4f2-46c9-e64a-3f86a40a8858"
      },
      "outputs": [
        {
          "output_type": "stream",
          "name": "stdout",
          "text": [
            "ingresa la tabla;7\n",
            "7 : 1 : 7\n",
            "7 : 2 : 14\n",
            "7 : 3 : 21\n",
            "7 : 4 : 28\n",
            "7 : 5 : 35\n",
            "7 : 6 : 42\n",
            "7 : 7 : 49\n",
            "7 : 8 : 56\n",
            "7 : 9 : 63\n",
            "7 : 10 : 70\n"
          ]
        }
      ],
      "source": [
        "tab=int(input(\"ingresa la tabla;\"))\n",
        "mul=0\n",
        "for i in range(1,11):\n",
        "  mul=tab*i;\n",
        "  print(tab,\":\",i,\":\",mul)\n",
        "\n"
      ]
    }
  ]
}