{
  "nbformat": 4,
  "nbformat_minor": 0,
  "metadata": {
    "colab": {
      "name": "aprobadoreprobado.ipynb",
      "provenance": [],
      "authorship_tag": "ABX9TyNzQ38DRvpBZB5GjCmSmnGp",
      "include_colab_link": true
    },
    "kernelspec": {
      "name": "python3",
      "display_name": "Python 3"
    },
    "language_info": {
      "name": "python"
    }
  },
  "cells": [
    {
      "cell_type": "markdown",
      "metadata": {
        "id": "view-in-github",
        "colab_type": "text"
      },
      "source": [
        "<a href=\"https://colab.research.google.com/github/AzucenaGutierrezRocha/clase-algoritmos/blob/main/aprobadoreprobado.ipynb\" target=\"_parent\"><img src=\"https://colab.research.google.com/assets/colab-badge.svg\" alt=\"Open In Colab\"/></a>"
      ]
    },
    {
      "cell_type": "code",
      "execution_count": 2,
      "metadata": {
        "colab": {
          "base_uri": "https://localhost:8080/"
        },
        "id": "iPZhZxigZJwt",
        "outputId": "3126ea7d-12b2-4d4f-e7d1-56871ee8df6f"
      },
      "outputs": [
        {
          "output_type": "stream",
          "name": "stdout",
          "text": [
            "ingresa la calificacion5\n",
            "reprobado\n"
          ]
        }
      ],
      "source": [
        "calif=float(input('ingresa la calificacion'))\n",
        "if(calif<7):\n",
        "  print('reprobado')\n",
        "else:\n",
        "  print('aprobado')\n"
      ]
    }
  ]
}