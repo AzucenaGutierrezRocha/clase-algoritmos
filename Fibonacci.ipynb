{
  "nbformat": 4,
  "nbformat_minor": 0,
  "metadata": {
    "colab": {
      "name": "Fibonacci.ipynb",
      "provenance": [],
      "include_colab_link": true
    },
    "kernelspec": {
      "name": "python3",
      "display_name": "Python 3"
    },
    "language_info": {
      "name": "python"
    }
  },
  "cells": [
    {
      "cell_type": "markdown",
      "metadata": {
        "id": "view-in-github",
        "colab_type": "text"
      },
      "source": [
        "<a href=\"https://colab.research.google.com/github/AzucenaGutierrezRocha/clase-algoritmos/blob/main/Fibonacci.ipynb\" target=\"_parent\"><img src=\"https://colab.research.google.com/assets/colab-badge.svg\" alt=\"Open In Colab\"/></a>"
      ]
    },
    {
      "cell_type": "code",
      "execution_count": null,
      "metadata": {
        "id": "yZFo1C7sequP",
        "outputId": "d5eb23cf-ddf0-4179-eff8-677fd8cfc01e",
        "colab": {
          "base_uri": "https://localhost:8080/"
        }
      },
      "outputs": [
        {
          "output_type": "stream",
          "name": "stdout",
          "text": [
            "Ingresa el numero: 6\n",
            "0\n",
            "1\n",
            "1\n",
            "2\n",
            "3\n",
            "5\n"
          ]
        }
      ],
      "source": [
        "a=0\n",
        "b=1\n",
        "n=int(input('Ingresa el numero: '))\n",
        "if n==0:\n",
        "  print(a)\n",
        "elif n==1:\n",
        "  print(a,b)\n",
        "elif(n>2):\n",
        "  print(a)\n",
        "  print(b)\n",
        "  for i in range(n-2):\n",
        "    total= a + b\n",
        "    a=b\n",
        "    b=total\n",
        "    print(total)\n"
      ]
    }
  ]
}