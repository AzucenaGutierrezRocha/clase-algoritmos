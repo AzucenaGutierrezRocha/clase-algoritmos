{
  "nbformat": 4,
  "nbformat_minor": 0,
  "metadata": {
    "colab": {
      "name": "promedio.ipynb",
      "provenance": [],
      "authorship_tag": "ABX9TyPgl+u7VuPqR0Sfn9VsLcnY",
      "include_colab_link": true
    },
    "kernelspec": {
      "name": "python3",
      "display_name": "Python 3"
    },
    "language_info": {
      "name": "python"
    }
  },
  "cells": [
    {
      "cell_type": "markdown",
      "metadata": {
        "id": "view-in-github",
        "colab_type": "text"
      },
      "source": [
        "<a href=\"https://colab.research.google.com/github/AzucenaGutierrezRocha/clase-algoritmos/blob/main/promedio.ipynb\" target=\"_parent\"><img src=\"https://colab.research.google.com/assets/colab-badge.svg\" alt=\"Open In Colab\"/></a>"
      ]
    },
    {
      "cell_type": "code",
      "execution_count": null,
      "metadata": {
        "colab": {
          "base_uri": "https://localhost:8080/"
        },
        "id": "YRyIAH-IJT_X",
        "outputId": "c3da2f7d-ad97-4e0f-d68b-38e4ca800fe5"
      },
      "outputs": [
        {
          "output_type": "stream",
          "name": "stdout",
          "text": [
            "Ingresa el número de filas: 4\n",
            "Ingresa el número de columnas: 4\n",
            "Datos numero de control: 1\n",
            "Datos nombre del alumno: azucena\n",
            "Datos Genero: mujer\n",
            "Datos Calificacion: 9\n",
            "Datos numero de control: 2\n",
            "Datos nombre del alumno: juan\n",
            "Datos Genero: hombre\n",
            "Datos Calificacion: 8\n",
            "Datos numero de control: 3\n",
            "Datos nombre del alumno: maria\n",
            "Datos Genero: mujer\n",
            "Datos Calificacion: 9\n",
            "Datos numero de control: 4\n",
            "Datos nombre del alumno: luis\n",
            "Datos Genero: hombre\n",
            "Datos Calificacion: 8\n",
            "Promedio de hombres 8.0\n",
            "Promedio de mujeres 9.0\n",
            "[['1', 'azucena', 'mujer', '9'], ['2', 'juan', 'hombre', '8'], ['3', 'maria', 'mujer', '9'], ['4', 'luis', 'hombre', '8']]\n"
          ]
        }
      ],
      "source": [
        "Tothombre=0\n",
        "Totmujer=0\n",
        "Calhombre=0\n",
        "Calmujer=0\n",
        "Promhombre=0\n",
        "Prommmujer=0\n",
        "\n",
        "salsa=int(input(\"Ingresa el número de filas: \"))\n",
        "taco=int(input(\"Ingresa el número de columnas: \"))\n",
        "\n",
        "A=[]\n",
        "valor=\"\"\n",
        "\n",
        "for i in range(0,taco):\n",
        "  A.append([0]*salsa)\n",
        "\n",
        "for i in range(0,salsa):\n",
        "  for j in range(0,taco):\n",
        "    if (j==0):\n",
        "      valor=\"numero de control\"\n",
        "    elif(j==1):\n",
        "      valor=\"nombre del alumno\"\n",
        "    elif(j==2):\n",
        "      valor=\"Genero\"\n",
        "    elif(j==3):\n",
        "      valor=\"Calificacion\"\n",
        "    A[i][j]=input(\"Datos \"+valor+ \": \" )\n",
        "\n",
        "for i in range(0,taco):\n",
        "\n",
        "  if(A[i][2]=='hombre'):\n",
        "    Tothombre=Tothombre+1\n",
        "    Calhombre=Calhombre+int(A[i][3])\n",
        "\n",
        "  if(A[i][2]=='mujer'):\n",
        "    Totmujer=Totmujer+1\n",
        "    Calmujer=Calmujer+int(A[i][3])\n",
        "Promhombre=Calhombre/Tothombre\n",
        "Prommujer=Calmujer/Totmujer\n",
        "\n",
        "\n",
        "print(\"Promedio de hombres\",Promhombre)\n",
        "print(\"Promedio de mujeres\",Prommujer)\n",
        "print(A)\n"
      ]
    }
  ]
}