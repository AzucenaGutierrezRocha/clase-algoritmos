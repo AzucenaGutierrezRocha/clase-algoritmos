{
  "nbformat": 4,
  "nbformat_minor": 0,
  "metadata": {
    "colab": {
      "name": "piedra papel spock.ipynb",
      "provenance": [],
      "authorship_tag": "ABX9TyOdZJoqdoSwioDh4C0Qq/9Z",
      "include_colab_link": true
    },
    "kernelspec": {
      "name": "python3",
      "display_name": "Python 3"
    },
    "language_info": {
      "name": "python"
    }
  },
  "cells": [
    {
      "cell_type": "markdown",
      "metadata": {
        "id": "view-in-github",
        "colab_type": "text"
      },
      "source": [
        "<a href=\"https://colab.research.google.com/github/AzucenaGutierrezRocha/clase-algoritmos/blob/main/piedra_papel_spock.ipynb\" target=\"_parent\"><img src=\"https://colab.research.google.com/assets/colab-badge.svg\" alt=\"Open In Colab\"/></a>"
      ]
    },
    {
      "cell_type": "code",
      "execution_count": null,
      "metadata": {
        "id": "poMcbciKVycl"
      },
      "outputs": [],
      "source": [
        "#1. piedra\n",
        "#2. papel\n",
        "#3. tijera\n",
        "#4. lagarto\n",
        "#5. spock\n",
        "J1=int(input('Jugador 1 ingresa tu opción: '))\n",
        "J2=int(input('Jugador 2 ingresa tu opción: '))\n",
        "if((J1==1)and(J2==1)):\n",
        "  print('empate')\n",
        "elif((J1==1)and(J2==2)):\n",
        "  print('Gano J2')\n",
        "elif((J1==1)and(J2==3)):\n",
        "  print('Gano J1')\n",
        "elif((J1==1)and(J2==4)):\n",
        "  print('Gano J1')\n",
        "elif((J1==1)and(J2==5)):\n",
        "  print('Gano J2')\n",
        "elif((J1==2)and(J2==1)):\n",
        "  print('Gano J1')\n",
        "elif((J1==2)and(J2==2)):\n",
        "  print('empate')\n",
        "elif((J1==2)and(J2==3)):\n",
        "  print('Gano J2')\n",
        "elif((J1==2)and(J2==4)):\n",
        "  print('Gano J2')\n",
        "elif((J1==2)and(J2==5)):\n",
        "  printe('Gano J1')\n",
        "elif((J1==3)and(J2==1)):\n",
        "  print('Gano J2')\n",
        "elif((J1==3)and(J2==2)):\n",
        "  print('Gano J1')\n",
        "elif((J1==3)and(J2==3)):\n",
        "  print('empate')\n",
        "elif((J1==3)and(J2==4)):\n",
        "  print('Gano J1  ')\n",
        "elif((J1==3)and(J2==5)):\n",
        "  print('Gano J2')\n",
        "elif((J1==4)and(J2==1)):\n",
        "  print('Gano J2')\n",
        "elif((J1==4)and(J2==2)):\n",
        "  print('Gano J1')\n",
        "elif((J1==4)and(J2==3)):\n",
        "  print('Gano J2')\n",
        "elif((J1==4)and(J2==4)):\n",
        "  print('empate')\n",
        "elif((J1==4)and(J2==5)):\n",
        "  print('Gano J1')\n",
        "elif((J1==5)and(J2==1)):\n",
        "  print('Gano J1')\n",
        "elif((J1==5)and(J2==2)):\n",
        "  print('Gano J2')\n",
        "elif((J1==5)and(J2==3)):\n",
        "  print('Gano J1')\n",
        "elif((J1==5)and(J2==4)):\n",
        "  print('Gano J2')\n",
        "elif((J1==5)and(J2==5)):\n",
        "  print('empate')"
      ]
    }
  ]
}