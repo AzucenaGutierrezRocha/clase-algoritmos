{
  "nbformat": 4,
  "nbformat_minor": 0,
  "metadata": {
    "colab": {
      "name": "piedra papel tijera.ipynb",
      "provenance": [],
      "authorship_tag": "ABX9TyOdOODIg0zXNZgym32MnJap",
      "include_colab_link": true
    },
    "kernelspec": {
      "name": "python3",
      "display_name": "Python 3"
    },
    "language_info": {
      "name": "python"
    }
  },
  "cells": [
    {
      "cell_type": "markdown",
      "metadata": {
        "id": "view-in-github",
        "colab_type": "text"
      },
      "source": [
        "<a href=\"https://colab.research.google.com/github/AzucenaGutierrezRocha/clase-algoritmos/blob/main/piedra_papel_tijera.ipynb\" target=\"_parent\"><img src=\"https://colab.research.google.com/assets/colab-badge.svg\" alt=\"Open In Colab\"/></a>"
      ]
    },
    {
      "cell_type": "code",
      "execution_count": 1,
      "metadata": {
        "colab": {
          "base_uri": "https://localhost:8080/"
        },
        "id": "ZUuABX_LaT8n",
        "outputId": "0ffa2462-42be-409a-83e9-8d8c68370110"
      },
      "outputs": [
        {
          "output_type": "stream",
          "name": "stdout",
          "text": [
            "Jugador 1 ingresa tu opción: 1\n",
            "Jugador 2 ingresa tu opción: 3\n",
            "Ganó J1\n"
          ]
        }
      ],
      "source": [
        "#1. Piedra\n",
        "#2. Papel\n",
        "#3. Tijera\n",
        "J1=int(input('Jugador 1 ingresa tu opción: '))\n",
        "J2=int(input('Jugador 2 ingresa tu opción: '))\n",
        "if((J1==1)and(J2==2)):\n",
        "  print('Ganó J2')\n",
        "elif((J1==1)and(J2==3)):\n",
        "  print('Ganó J1')\n",
        "elif((J1==1)and(J2==1)):\n",
        "  print('Empate')\n",
        "elif((J1==2)and(J2==3)):\n",
        "  print('Ganó J2')\n",
        "elif((J1==2)and(J2==1)):\n",
        "  print('Ganó J1')\n",
        "elif((J1==2)and(J2==2)):\n",
        "  print('Empate')\n",
        "elif((J1==3)and(J2==1)):\n",
        "  print('Ganó J2')\n",
        "elif((J1==3)and(J2==2)):\n",
        "  print('Ganó J1')\n",
        "elif((J1==3)and(J2==3)):\n",
        "  print('Empate')"
      ]
    }
  ]
}