{
  "nbformat": 4,
  "nbformat_minor": 0,
  "metadata": {
    "colab": {
      "name": "calculadora 2mdsm.ipynb",
      "provenance": [],
      "authorship_tag": "ABX9TyNy8CpNBmlJ2Mqp6/Vl2xjp",
      "include_colab_link": true
    },
    "kernelspec": {
      "name": "python3",
      "display_name": "Python 3"
    },
    "language_info": {
      "name": "python"
    }
  },
  "cells": [
    {
      "cell_type": "markdown",
      "metadata": {
        "id": "view-in-github",
        "colab_type": "text"
      },
      "source": [
        "<a href=\"https://colab.research.google.com/github/AzucenaGutierrezRocha/clase-algoritmos/blob/main/calculadora_2mdsm.ipynb\" target=\"_parent\"><img src=\"https://colab.research.google.com/assets/colab-badge.svg\" alt=\"Open In Colab\"/></a>"
      ]
    },
    {
      "cell_type": "code",
      "execution_count": null,
      "metadata": {
        "id": "oZLtO2UDZwts"
      },
      "outputs": [],
      "source": [
        "num1=int(input('Inserta el primer número: '))\n",
        "num2=int(input('Inserta el segundo número: '))\n",
        "\n",
        "operación=int(input('Operación a realizar: '))\n",
        "#1. suma\n",
        "#2. resta\n",
        "#3. multiplicación\n",
        "#4. división\n",
        "Total=0\n",
        "if(operación==1):\n",
        "  Total=num1+num2\n",
        "elif(operación==2):\n",
        "  Total=num1-num2\n",
        "elif(operación==3):\n",
        "  Total=num1*num2\n",
        "elif(operación==4):\n",
        "  Total=num1/num2\n",
        "print(Total)"
      ]
    },
    {
      "cell_type": "code",
      "source": [
        ""
      ],
      "metadata": {
        "id": "0WA_9IOVZ32W"
      },
      "execution_count": null,
      "outputs": []
    }
  ]
}