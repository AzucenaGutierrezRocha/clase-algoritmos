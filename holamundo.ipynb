{
  "nbformat": 4,
  "nbformat_minor": 0,
  "metadata": {
    "colab": {
      "name": "holamundo.ipynb",
      "provenance": []
    },
    "kernelspec": {
      "name": "python3",
      "display_name": "Python 3"
    },
    "language_info": {
      "name": "python"
    }
  },
  "cells": [
    {
      "cell_type": "code",
      "execution_count": 3,
      "metadata": {
        "colab": {
          "base_uri": "https://localhost:8080/"
        },
        "id": "7TyjHWOiy1jF",
        "outputId": "2825a84e-b918-4c7b-d9d1-e968eb15ea07"
      },
      "outputs": [
        {
          "output_type": "stream",
          "name": "stdout",
          "text": [
            "['O', 'D', 'N', 'U', 'M', 'A', 'L', 'O', 'H']\n"
          ]
        }
      ],
      "source": [
        "j=8\n",
        "\n",
        "A1=['H','O','L','A','M','U','N','D','O']\n",
        "\n",
        "for i in range(0,5):\n",
        "\n",
        "  v1=A1[j]\n",
        "  A1[j]=A1[i]\n",
        "  A1[i]=v1\n",
        "  j=j-1\n",
        "print(A1)\n"
      ]
    }
  ]
}