{
  "nbformat": 4,
  "nbformat_minor": 0,
  "metadata": {
    "colab": {
      "name": "examen30num.ipynb",
      "provenance": []
    },
    "kernelspec": {
      "name": "python3",
      "display_name": "Python 3"
    },
    "language_info": {
      "name": "python"
    }
  },
  "cells": [
    {
      "cell_type": "code",
      "execution_count": null,
      "metadata": {
        "id": "htX0LfKZ5XBJ",
        "colab": {
          "base_uri": "https://localhost:8080/"
        },
        "outputId": "eae02507-db24-4a98-f2e8-83b9ca396720"
      },
      "outputs": [
        {
          "output_type": "stream",
          "name": "stdout",
          "text": [
            "Ingresa los numeros del primer arreglo: 1\n",
            "Ingresa los numeros del primer arreglo: 2\n",
            "Ingresa los numeros del primer arreglo: 1\n",
            "Ingresa los numeros del primer arreglo: 2\n",
            "Ingresa los numeros del primer arreglo: 1\n",
            "Ingresa los numeros del primer arreglo: 2\n",
            "Ingresa los numeros del primer arreglo: 1\n",
            "Ingresa los numeros del primer arreglo: 2\n",
            "Ingresa los numeros del primer arreglo: 1\n",
            "Ingresa los numeros del primer arreglo: 2\n",
            "Ingresa los numeros del primer arreglo: 1\n",
            "Ingresa los numeros del primer arreglo: 2\n",
            "Ingresa los numeros del primer arreglo: 1\n",
            "Ingresa los numeros del primer arreglo: 2\n",
            "Ingresa los numeros del primer arreglo: 1\n",
            "Ingresa los numeros del primer arreglo: 2\n",
            "Ingresa los numeros del primer arreglo: 1\n",
            "Ingresa los numeros del primer arreglo: 2\n",
            "Ingresa los numeros del primer arreglo: 1\n",
            "Ingresa los numeros del primer arreglo: 2\n",
            "Ingresa los numeros del primer arreglo: 1\n",
            "Ingresa los numeros del primer arreglo: 2\n",
            "Ingresa los numeros del primer arreglo: 1\n",
            "Ingresa los numeros del primer arreglo: 2\n",
            "Ingresa los numeros del primer arreglo: 1\n",
            "Ingresa los numeros del primer arreglo: 2\n",
            "Ingresa los numeros del primer arreglo: 1\n",
            "Ingresa los numeros del primer arreglo: 2\n",
            "Ingresa los numeros del primer arreglo: 1\n",
            "Ingresa los numeros del primer arreglo: 2\n",
            "Ingresa los numeros del segundo arreglo: 4\n",
            "Ingresa los numeros del segundo arreglo: 4\n",
            "Ingresa los numeros del segundo arreglo: 4\n",
            "Ingresa los numeros del segundo arreglo: 4\n",
            "Ingresa los numeros del segundo arreglo: 4\n",
            "Ingresa los numeros del segundo arreglo: 4\n",
            "Ingresa los numeros del segundo arreglo: 4\n",
            "Ingresa los numeros del segundo arreglo: 4\n",
            "Ingresa los numeros del segundo arreglo: 4\n",
            "Ingresa los numeros del segundo arreglo: 4\n",
            "Ingresa los numeros del segundo arreglo: 4\n",
            "Ingresa los numeros del segundo arreglo: 4\n",
            "Ingresa los numeros del segundo arreglo: 4\n",
            "Ingresa los numeros del segundo arreglo: 4\n",
            "Ingresa los numeros del segundo arreglo: 4\n",
            "Ingresa los numeros del segundo arreglo: 4\n",
            "Ingresa los numeros del segundo arreglo: 4\n",
            "Ingresa los numeros del segundo arreglo: 4\n",
            "Ingresa los numeros del segundo arreglo: 4\n",
            "Ingresa los numeros del segundo arreglo: 4\n",
            "Ingresa los numeros del segundo arreglo: 4\n",
            "Ingresa los numeros del segundo arreglo: 4\n",
            "Ingresa los numeros del segundo arreglo: 4\n",
            "Ingresa los numeros del segundo arreglo: 4\n",
            "Ingresa los numeros del segundo arreglo: 4\n",
            "Ingresa los numeros del segundo arreglo: 4\n",
            "Ingresa los numeros del segundo arreglo: 4\n",
            "Ingresa los numeros del segundo arreglo: 4\n",
            "Ingresa los numeros del segundo arreglo: 4\n",
            "Ingresa los numeros del segundo arreglo: 4\n",
            "[8, 8, 8, 8, 8, 8, 8, 8, 8, 8, 8, 8, 8, 8, 8, 4, 4, 4, 4, 4, 4, 4, 4, 4, 4, 4, 4, 4, 4, 4]\n",
            "[4, 4, 4, 4, 4, 4, 4, 4, 4, 4, 4, 4, 4, 4, 4, 8, 8, 8, 8, 8, 8, 8, 8, 8, 8, 8, 8, 8, 8, 8]\n"
          ]
        }
      ],
      "source": [
        "a=[]\n",
        "b=[]\n",
        "c=[]\n",
        "largo=29\n",
        "for i in range(0,30):\n",
        "  a.append(int(input(\"Ingresa los numeros del primer arreglo: \")))\n",
        "for i in range(0,30):\n",
        "  b.append(int(input(\"Ingresa los numeros del segundo arreglo: \")))\n",
        "for i in range(0,30):\n",
        "  resul=a[i]*b[i]\n",
        "  c.append(resul)\n",
        "for i in range(1,30):\n",
        "  for d in range(0,30-i):\n",
        "    if(c[d]<c[d+1]):\n",
        "      var=c[d]\n",
        "      c[d]=c[d+1]\n",
        "      c[d+1]=var\n",
        "print(c)\n",
        "for i in range(0,15):\n",
        "  Var=c[largo]\n",
        "  c[largo]=c[i]\n",
        "  c[i]=Var\n",
        "  largo=largo-1\n",
        "print(c)"
      ]
    }
  ]
}