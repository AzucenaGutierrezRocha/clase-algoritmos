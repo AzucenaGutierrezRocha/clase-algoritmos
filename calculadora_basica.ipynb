{
  "nbformat": 4,
  "nbformat_minor": 0,
  "metadata": {
    "colab": {
      "name": "calculadora basica.ipynb",
      "provenance": [],
      "authorship_tag": "ABX9TyMoJCco60RhOZRiCyrMn5oT",
      "include_colab_link": true
    },
    "kernelspec": {
      "name": "python3",
      "display_name": "Python 3"
    },
    "language_info": {
      "name": "python"
    }
  },
  "cells": [
    {
      "cell_type": "markdown",
      "metadata": {
        "id": "view-in-github",
        "colab_type": "text"
      },
      "source": [
        "<a href=\"https://colab.research.google.com/github/AzucenaGutierrezRocha/clase-algoritmos/blob/main/calculadora_basica.ipynb\" target=\"_parent\"><img src=\"https://colab.research.google.com/assets/colab-badge.svg\" alt=\"Open In Colab\"/></a>"
      ]
    },
    {
      "cell_type": "code",
      "execution_count": 1,
      "metadata": {
        "colab": {
          "base_uri": "https://localhost:8080/"
        },
        "id": "oY2PnX8vRyNJ",
        "outputId": "bddfb3c0-d0c7-4dcd-b09c-a830bdfba2de"
      },
      "outputs": [
        {
          "output_type": "stream",
          "name": "stdout",
          "text": [
            "ingresa el primer numero:50\n",
            "ingresa el segundo numero:40\n",
            "90\n"
          ]
        }
      ],
      "source": [
        "n1=int(input('ingresa el primer numero:'))\n",
        "n2=int(input('ingresa el segundo numero:'))\n",
        "sum=n1+n2\n",
        "print(sum)"
      ]
    }
  ]
}